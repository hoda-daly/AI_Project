{
  "nbformat": 4,
  "nbformat_minor": 0,
  "metadata": {
    "colab": {
      "provenance": [],
      "authorship_tag": "ABX9TyMkNSgvAAfZwmuVlwhpxrHY",
      "include_colab_link": true
    },
    "kernelspec": {
      "name": "python3",
      "display_name": "Python 3"
    },
    "language_info": {
      "name": "python"
    }
  },
  "cells": [
    {
      "cell_type": "markdown",
      "metadata": {
        "id": "view-in-github",
        "colab_type": "text"
      },
      "source": [
        "<a href=\"https://colab.research.google.com/github/hoda-daly/AI_Project/blob/main/BMRPREDICTIONWITHHIGHACC.ipynb\" target=\"_parent\"><img src=\"https://colab.research.google.com/assets/colab-badge.svg\" alt=\"Open In Colab\"/></a>"
      ]
    },
    {
      "cell_type": "markdown",
      "source": [],
      "metadata": {
        "id": "mxvJwx5oub-o"
      }
    },
    {
      "cell_type": "code",
      "source": [
        "# import pandas as pd\n",
        "# from sklearn.model_selection import train_test_split\n",
        "# from sklearn.linear_model import LinearRegression\n",
        "# from sklearn.metrics import mean_absolute_error, mean_squared_error, r2_score\n",
        "\n",
        "# # Load dataset\n",
        "# bmr_df = pd.read_csv('/content/final dataset bmr.csv')\n",
        "\n",
        "# # Map 'Gender' to numerical values\n",
        "# bmr_df['Gender'] = bmr_df['Gender'].map({'Male': 0, 'Female': 1})\n",
        "\n",
        "# # Encode 'BMI_Index' using label encoding\n",
        "# if 'BMI_Index' in bmr_df.columns:\n",
        "#     bmr_df['BMI_Index'] = pd.Categorical(bmr_df['BMI_Index']).codes\n",
        "\n",
        "# # Encode 'Activity Level' using label encoding\n",
        "# if 'Activity Level' in bmr_df.columns:\n",
        "#     bmr_df['Activity Level'] = pd.Categorical(bmr_df['Activity Level']).codes\n",
        "\n",
        "# # Split dataset into features (X) and target variable (y)\n",
        "# X = bmr_df.drop(columns=['Basal_Metabolic_Rate(BMR)'])\n",
        "# y = bmr_df['Basal_Metabolic_Rate(BMR)']\n",
        "\n",
        "# # Split dataset into training and testing sets\n",
        "# X_train, X_test, y_train, y_test = train_test_split(X, y, test_size=0.2, random_state=42)\n",
        "\n",
        "# # Train Linear Regression model\n",
        "# bmr_model = LinearRegression()\n",
        "# bmr_model.fit(X_train, y_train)\n",
        "\n",
        "# # Make predictions\n",
        "# y_pred = bmr_model.predict(X_test)\n",
        "\n",
        "# # Evaluate model performance\n",
        "# mae = mean_absolute_error(y_test, y_pred)\n",
        "# mse = mean_squared_error(y_test, y_pred)\n",
        "# r2 = r2_score(y_test, y_pred)\n",
        "\n",
        "# # Print evaluation metrics\n",
        "# print(\"Model Evaluation:\")\n",
        "# print(f'Mean Absolute Error: {mae}')\n",
        "# print(f'Mean Squared Error: {mse}')\n",
        "# print(f'R-squared: {r2}')\n"
      ],
      "metadata": {
        "colab": {
          "base_uri": "https://localhost:8080/"
        },
        "id": "8U6saNmWugMw",
        "outputId": "7ef5b328-c69a-4caa-d2e3-a0e18a4181da"
      },
      "execution_count": 23,
      "outputs": [
        {
          "output_type": "stream",
          "name": "stdout",
          "text": [
            "Model Evaluation:\n",
            "Mean Absolute Error: 412.1976325333136\n",
            "Mean Squared Error: 257043.61113088345\n",
            "R-squared: 0.41145581082183114\n"
          ]
        }
      ]
    },
    {
      "cell_type": "markdown",
      "source": [
        "Corect code\n"
      ],
      "metadata": {
        "id": "3OT8ffJFuZQt"
      }
    },
    {
      "cell_type": "code",
      "source": [
        "# Import necessary libraries\n",
        "import pandas as pd\n",
        "from sklearn.model_selection import train_test_split\n",
        "from sklearn.linear_model import LinearRegression\n",
        "from sklearn.ensemble import RandomForestRegressor\n",
        "from sklearn.metrics import mean_absolute_error, mean_squared_error, r2_score\n",
        "\n",
        "# Step 1: Load and preprocess the dataset\n",
        "# Load the dataset\n",
        "data = pd.read_csv('/content/final dataset bmr.csv')\n",
        "\n",
        "# Handle missing values if any\n",
        "data.fillna(method='ffill', inplace=True)  # Forward fill missing values\n",
        "\n",
        "# Encode categorical variables (e.g., Gender, BMI_Index, Activity Level)\n",
        "data = pd.get_dummies(data, columns=['Gender', 'BMI_Index', 'Activity Level'], drop_first=True)\n",
        "\n",
        "\n",
        "# Split the dataset into features (X) and target variable (y)\n",
        "X = data.drop(columns=['Basal_Metabolic_Rate(BMR)'])\n",
        "y = data['Basal_Metabolic_Rate(BMR)']\n",
        "\n",
        "# Step 2: Train-test split\n",
        "X_train, X_test, y_train, y_test = train_test_split(X, y, test_size=0.2, random_state=42)\n",
        "\n",
        "# Step 3: Model Selection and Training\n",
        "# Initialize the regression model (you can choose any model here)\n",
        "model = RandomForestRegressor()  # Random Forest Regression\n",
        "\n",
        "# Train the model on the training data\n",
        "model.fit(X_train, y_train)\n",
        "\n",
        "# Step 4: Model Evaluation\n",
        "# Make predictions on the test set\n",
        "y_pred = model.predict(X_test)\n",
        "\n",
        "# Evaluate the model using appropriate metrics\n",
        "mae = mean_absolute_error(y_test, y_pred)\n",
        "mse = mean_squared_error(y_test, y_pred)\n",
        "r2 = r2_score(y_test, y_pred)\n",
        "\n",
        "print(\"Model Evaluation:\")\n",
        "print(f'Mean Absolute Error: {mae}')\n",
        "print(f'Mean Squared Error: {mse}')\n",
        "print(f'R-squared: {r2}')\n",
        "\n"
      ],
      "metadata": {
        "colab": {
          "base_uri": "https://localhost:8080/"
        },
        "id": "SCB3gv49omL0",
        "outputId": "ae315217-98ff-4f08-94ef-e79f4d5e9276"
      },
      "execution_count": 24,
      "outputs": [
        {
          "output_type": "stream",
          "name": "stdout",
          "text": [
            "Model Evaluation:\n",
            "Mean Absolute Error: 4.459192621585611\n",
            "Mean Squared Error: 53.58373370669555\n",
            "R-squared: 0.9998773111108703\n"
          ]
        }
      ]
    },
    {
      "cell_type": "code",
      "source": [
        "# # Prepare input data for testing\n",
        "# test_data = {\n",
        "#     'Age': [25],\n",
        "#     'Height': [170],\n",
        "#     'Weight': [65],\n",
        "#     'Gender': ['Female'],  # Assuming female\n",
        "#     'BMI': [22],\n",
        "#     'BMI_Index': ['Normal'],  # Assuming normal BMI\n",
        "#     'Activity Level': ['Low'],  # Assuming low activity level\n",
        "# }\n",
        "\n",
        "# # Convert test data to DataFrame\n",
        "# bmr_df = pd.DataFrame(test_data)\n",
        "\n",
        "# # Apply one-hot encoding to categorical variables\n",
        "# bmr_df= pd.get_dummies(bmr_df, columns=['Gender', 'BMI_Index', 'Activity Level'])\n",
        "\n",
        "# # Ensure the test data has the same columns as the training data\n",
        "# missing_cols = set(X_train.columns) - set(bmr_df.columns)\n",
        "# for col in missing_cols:\n",
        "#     bmr_df[col] = 0\n",
        "\n",
        "# # Reorder columns to match the order during training\n",
        "# test_df = bmr_df[X_train.columns]\n",
        "\n",
        "# # Make predictions using the trained model\n",
        "# bmr_prediction = model.predict(test_df)\n",
        "\n",
        "# # Display the predicted BMR\n",
        "# print(\"Predicted Basal Metabolic Rate (BMR):\", bmr_prediction)\n",
        "\n",
        "\n",
        "\n",
        "import pandas as pd\n",
        "\n",
        "# Load the dataset\n",
        "data = pd.read_csv('/content/final dataset bmr.csv')\n",
        "\n",
        "# Display the first few rows of the dataset\n",
        "# print(\"Dataset:\")\n",
        "# print(data.head())\n",
        "\n",
        "# Prepare input data for testing\n",
        "test_data = {\n",
        "    'Age': [60],\n",
        "    'Weight(kg)': [47],\n",
        "    'Height(cm)': [176],\n",
        "    'Gender': ['Male'],\n",
        "    'BMI': [15.17303719],\n",
        "    'BMI_Index': ['Underweight'],\n",
        "    'Activity Level': ['Sedentary']\n",
        "}\n",
        "\n",
        "# Convert test data to DataFrame\n",
        "test_df = pd.DataFrame(test_data)\n",
        "\n",
        "# Apply one-hot encoding to categorical variables\n",
        "test_df = pd.get_dummies(test_df, columns=['Gender', 'BMI_Index', 'Activity Level'])\n",
        "\n",
        "# Ensure the test data has the same columns as the training data\n",
        "missing_cols = set(X_train.columns) - set(test_df.columns)\n",
        "for col in missing_cols:\n",
        "    test_df[col] = 0\n",
        "\n",
        "# Reorder columns to match the order during training\n",
        "test_df = test_df[X_train.columns]\n",
        "\n",
        "# Make predictions using the trained model\n",
        "bmr_prediction = model.predict(test_df)\n",
        "\n",
        "# Display the predicted BMR\n",
        "print(\"\\nPredicted Basal Metabolic Rate (BMR):\", bmr_prediction)\n",
        "\n"
      ],
      "metadata": {
        "colab": {
          "base_uri": "https://localhost:8080/"
        },
        "id": "mvtnbVW8x7DW",
        "outputId": "1ad2ca46-20d6-4e47-d520-43157fc8617a"
      },
      "execution_count": 34,
      "outputs": [
        {
          "output_type": "stream",
          "name": "stdout",
          "text": [
            "\n",
            "Predicted Basal Metabolic Rate (BMR): [1533.88]\n"
          ]
        }
      ]
    },
    {
      "cell_type": "markdown",
      "source": [
        "BMR PRediction\n"
      ],
      "metadata": {
        "id": "qjTT5DaRqRjj"
      }
    },
    {
      "cell_type": "code",
      "source": [
        "import joblib\n",
        "\n",
        "# Assuming 'bmr_model' is your trained model\n",
        "# Save the model to a file\n",
        "joblib.dump(bmr_model, 'bmr_model.pkl')"
      ],
      "metadata": {
        "colab": {
          "base_uri": "https://localhost:8080/"
        },
        "id": "rdYG8nlnq6Oq",
        "outputId": "57c481c1-93fb-4c68-cf2f-987552cb3542"
      },
      "execution_count": 15,
      "outputs": [
        {
          "output_type": "execute_result",
          "data": {
            "text/plain": [
              "['bmr_model.pkl']"
            ]
          },
          "metadata": {},
          "execution_count": 15
        }
      ]
    },
    {
      "cell_type": "code",
      "source": [
        "# import pandas as pd\n",
        "# import joblib\n",
        "\n",
        "# # Load the trained model\n",
        "# bmr_model = joblib.load('bmr_model.pkl')\n",
        "\n",
        "# # Define a function to preprocess input data\n",
        "# def preprocess_input(age, weight, height, gender, bmi, bmi_index, activity_level):\n",
        "#     # Create input data with all required features\n",
        "#     input_data = pd.DataFrame({\n",
        "#         'Age': [age],\n",
        "#         'Weight(kg)': [weight],\n",
        "#         'Height(cm)': [height],\n",
        "#         'BMI': [bmi],\n",
        "#         f'BMI_Index_{bmi_index}': [1],  # One-hot encode BMI_Index\n",
        "#         f'Gender_{gender}': [1],        # One-hot encode Gender\n",
        "#         # Include other features as needed\n",
        "#     })\n",
        "#     return input_data\n",
        "\n",
        "# # Define a function to predict BMR\n",
        "# def predict_bmr(input_data):\n",
        "#     # Predict BMR using the trained model\n",
        "#     predicted_bmr = bmr_model.predict(input_data)\n",
        "#     return predicted_bmr\n",
        "\n",
        "# # Get user input\n",
        "# age = int(input(\"Enter Age: \"))\n",
        "# weight = int(input(\"Enter Weight (kg): \"))\n",
        "# height = int(input(\"Enter Height (cm): \"))\n",
        "# gender = input(\"Enter Gender (Male/Female): \")\n",
        "# bmi = float(input(\"Enter BMI: \"))\n",
        "# bmi_index = input(\"Enter BMI Index (Underweight/Normal/Overweight/Obese): \")\n",
        "# activity_level = input(\"Enter Activity Level (Sedentary/Light/Moderate/Very Active/Extra Active): \")\n",
        "\n",
        "# # Preprocess input data\n",
        "# input_data = preprocess_input(age, weight, height, gender, bmi, bmi_index, activity_level)\n",
        "\n",
        "# # Predict BMR\n",
        "# predicted_bmr = predict_bmr(input_data)\n",
        "\n",
        "# # Display the predicted BMR\n",
        "# print(\"Predicted Basal Metabolic Rate (BMR):\", predicted_bmr)\n"
      ],
      "metadata": {
        "id": "VHMQjvDEtET6"
      },
      "execution_count": 26,
      "outputs": []
    },
    {
      "cell_type": "code",
      "source": [],
      "metadata": {
        "id": "973LUTUlv54k"
      },
      "execution_count": null,
      "outputs": []
    },
    {
      "cell_type": "markdown",
      "source": [
        "Predict BMR USing Linear Regression **bold text**"
      ],
      "metadata": {
        "id": "rW2yA9CGwYW2"
      }
    },
    {
      "cell_type": "code",
      "source": [
        "import pandas as pd\n",
        "from sklearn.model_selection import train_test_split\n",
        "from sklearn.linear_model import LinearRegression\n",
        "from sklearn.ensemble import RandomForestClassifier\n",
        "from sklearn.preprocessing import LabelEncoder\n",
        "from sklearn.metrics import mean_absolute_error, mean_squared_error, r2_score, accuracy_score\n",
        "from sklearn.metrics.pairwise import cosine_similarity\n",
        "from collections import OrderedDict\n",
        "\n",
        "# Load datasets from CSV files\n",
        "bmr_df = pd.read_csv('/content/final dataset bmr.csv')\n",
        "meals_df = pd.read_csv('./Meals.csv')\n",
        "\n",
        "# Map 'Gender' to numerical values\n",
        "bmr_df['Gender'] = bmr_df['Gender'].map({'Male': 0, 'Female': 1})\n",
        "\n",
        "# Handle missing values\n",
        "bmr_df.fillna('missing', inplace=True)\n",
        "meals_df.fillna('missing', inplace=True)\n",
        "\n",
        "# Convert numerical columns to integers\n",
        "numerical_cols = ['Age', 'Weight(kg)', 'Height(cm)', 'BMI', 'Basal_Metabolic_Rate(BMR)']\n",
        "bmr_df[numerical_cols] = bmr_df[numerical_cols].astype(int)\n",
        "bmr_df = pd.get_dummies(bmr_df, columns=['Gender', 'BMI_Index', 'Activity Level'], drop_first=True)\n",
        "# # Encode 'BMI_Index' using label encoding\n",
        "# if 'BMI_Index' in bmr_df.columns:\n",
        "#     bmr_df['BMI_Index'] = pd.Categorical(bmr_df['BMI_Index']).codes\n",
        "\n",
        "# Split BMR data into features (X) and target (y)\n",
        "X_bmr = bmr_df.drop(columns=['Basal_Metabolic_Rate(BMR)'])\n",
        "y_bmr = bmr_df['Basal_Metabolic_Rate(BMR)']\n",
        "X_train_bmr, X_test_bmr, y_train_bmr, y_test_bmr = train_test_split(X_bmr, y_bmr, test_size=0.2, random_state=42)\n",
        "\n",
        "# Train Linear Regression model for BMR prediction\n",
        "bmr_model = LinearRegression()\n",
        "bmr_model.fit(X_train_bmr, y_train_bmr)\n",
        "\n",
        "# Predict BMR using the trained model\n",
        "y_pred_bmr = bmr_model.predict(X_test_bmr)\n",
        "\n",
        "# Evaluate BMR Prediction Model\n",
        "mae = mean_absolute_error(y_test_bmr, y_pred_bmr)\n",
        "mse = mean_squared_error(y_test_bmr, y_pred_bmr)\n",
        "r2 = r2_score(y_test_bmr, y_pred_bmr)\n",
        "print(\"BMR Prediction Model Evaluation:\")\n",
        "print(f'Mean Absolute Error: {mae}')\n",
        "print(f'Mean Squared Error: {mse}')\n",
        "print(f'R-squared: {r2}')\n"
      ],
      "metadata": {
        "colab": {
          "base_uri": "https://localhost:8080/"
        },
        "id": "EpPHYOYzmmMs",
        "outputId": "90705ead-5264-49c5-94ab-cdf7bb0f0941"
      },
      "execution_count": 28,
      "outputs": [
        {
          "output_type": "stream",
          "name": "stdout",
          "text": [
            "BMR Prediction Model Evaluation:\n",
            "Mean Absolute Error: 60.09157186389482\n",
            "Mean Squared Error: 7076.12784834308\n",
            "R-squared: 0.983798025912017\n"
          ]
        }
      ]
    },
    {
      "cell_type": "code",
      "source": [
        "45"
      ],
      "metadata": {
        "id": "S66ZH0x9m-rg"
      },
      "execution_count": null,
      "outputs": []
    }
  ]
}